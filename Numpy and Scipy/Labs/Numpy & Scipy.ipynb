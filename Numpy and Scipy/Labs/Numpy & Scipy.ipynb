{
 "cells": [
  {
   "cell_type": "markdown",
   "id": "a94635c5",
   "metadata": {},
   "source": [
    "# <p style=\"padding:10px;background-color:#7d053f;margin:0;color:white;font-family:newtimeroman;font-size:150%;text-align:center;border-radius: 15px 50px;overflow:hidden;font-weight:500\">Numpy</p> "
   ]
  },
  {
   "cell_type": "markdown",
   "id": "732bec3a",
   "metadata": {},
   "source": [
    "<p style=\"padding:10px;background-color:#f5efef;margin:0;color:#7d053f;font-family:newtimeroman;font-size:150%;text-align:center;border-radius: 50px 50px;overflow:hidden;font-weight:350\"> Import Libraries  :-</p> "
   ]
  },
  {
   "cell_type": "code",
   "execution_count": 1,
   "id": "d5722688",
   "metadata": {},
   "outputs": [],
   "source": [
    "import numpy as np            #deal with array\n",
    "from tabulate import tabulate #make nice tables \n",
    "from scipy import linalg\n",
    "import multiprocessing as mp\n",
    "\n"
   ]
  },
  {
   "cell_type": "markdown",
   "id": "2a9a57f9",
   "metadata": {},
   "source": [
    "<div style = 'border : 3px solid #7d053f; background-color:#f5efef;padding:10px'>\n",
    "\n",
    "- ###  <span style=\"color:#7d053f\"> Write a NumPy program to create a `structured array` from given `student name`, `height`, `class` and their `data types`. Then sort the array on height</span>"
   ]
  },
  {
   "cell_type": "markdown",
   "id": "a7c797cd",
   "metadata": {},
   "source": [
    "<p style=\"padding:10px;background-color:#f5efef;margin:0;color:#7d053f;font-family:newtimeroman;font-size:150%;text-align:center;border-radius: 50px 50px;overflow:hidden;font-weight:350\"> Help Notes :-</p> "
   ]
  },
  {
   "cell_type": "code",
   "execution_count": 2,
   "id": "decd2964",
   "metadata": {},
   "outputs": [
    {
     "data": {
      "text/plain": [
       "dtype('<U5')"
      ]
     },
     "execution_count": 2,
     "metadata": {},
     "output_type": "execute_result"
    }
   ],
   "source": [
    "arr =np.array([\"Menna\"])\n",
    "arr.dtype"
   ]
  },
  {
   "cell_type": "code",
   "execution_count": 3,
   "id": "2d9e319f",
   "metadata": {},
   "outputs": [
    {
     "data": {
      "text/plain": [
       "dtype('int32')"
      ]
     },
     "execution_count": 3,
     "metadata": {},
     "output_type": "execute_result"
    }
   ],
   "source": [
    "arr =np.array([160])\n",
    "arr.dtype"
   ]
  },
  {
   "cell_type": "code",
   "execution_count": 4,
   "id": "708b7a54",
   "metadata": {},
   "outputs": [
    {
     "data": {
      "text/plain": [
       "dtype('<U1')"
      ]
     },
     "execution_count": 4,
     "metadata": {},
     "output_type": "execute_result"
    }
   ],
   "source": [
    "arr =np.array(['A'])\n",
    "arr.dtype"
   ]
  },
  {
   "cell_type": "markdown",
   "id": "5bf69df9",
   "metadata": {},
   "source": [
    "<p style=\"padding:10px;background-color:#f5efef;margin:0;color:#7d053f;font-family:newtimeroman;font-size:150%;text-align:center;border-radius: 50px 50px;overflow:hidden;font-weight:350\"> Validation :-</p> "
   ]
  },
  {
   "cell_type": "code",
   "execution_count": 5,
   "id": "f4d0f55e",
   "metadata": {},
   "outputs": [],
   "source": [
    "def Name (name):\n",
    "\n",
    "    if  name.isalpha() and len(name) >= 3 :\n",
    "        return name\n",
    "    else:\n",
    "        name = input(\"This name is Invalid, Please Try Again: \\n\")\n",
    "        Name(name)"
   ]
  },
  {
   "cell_type": "code",
   "execution_count": 6,
   "id": "b3db475c",
   "metadata": {},
   "outputs": [],
   "source": [
    "def Height (height):\n",
    "    if height.isdigit():\n",
    "        height = int(height)\n",
    "        if height >140 and height < 190:\n",
    "            return height\n",
    "        else:\n",
    "            height = input(\"This height is Invalid, Please Try Again: \\n\")\n",
    "            Height(height)               \n",
    "    else:\n",
    "        height = input(\"This height is Invalid, Please Try Again: \\n\")\n",
    "        Height(height)\n",
    "    "
   ]
  },
  {
   "cell_type": "code",
   "execution_count": 7,
   "id": "f477955c",
   "metadata": {},
   "outputs": [],
   "source": [
    "def Std_Class (Class):\n",
    "    if Class.isalpha() and len(Class)==1:\n",
    "        return Class\n",
    "    else :\n",
    "        Class = input(\"This Class is Invalid, Please Try Again: \\n\")\n",
    "        Std_Class(Class)\n",
    "        "
   ]
  },
  {
   "cell_type": "markdown",
   "id": "cbf2ca0d",
   "metadata": {},
   "source": [
    "<p style=\"padding:10px;background-color:#f5efef;margin:0;color:#7d053f;font-family:newtimeroman;font-size:150%;text-align:center;border-radius: 50px 50px;overflow:hidden;font-weight:350\"> Structured Array :-</p> "
   ]
  },
  {
   "cell_type": "code",
   "execution_count": 8,
   "id": "42382e76",
   "metadata": {},
   "outputs": [],
   "source": [
    "def StructuredArray ():\n",
    "        #Intialize array with dtypes.\n",
    "        Students = np.zeros((student_number),dtype=[('name', 'U5'), ('height', 'int32'), ('class', 'U1')])\n",
    "        #Filling the array\n",
    "        for i in range (student_number):\n",
    "            print (f\"\\nEnter the student {i+1} data :\")\n",
    "            name= input (\"Name : \")\n",
    "            name = Name(name)\n",
    "    \n",
    "            height = input (\"Height : \")\n",
    "            height = Height(height)\n",
    "    \n",
    "            Class = input(\"class : \")\n",
    "            Class = Std_Class(Class)\n",
    "            Students[i]=(name , height , Class)\n",
    "    \n",
    "        return Students"
   ]
  },
  {
   "cell_type": "code",
   "execution_count": 9,
   "id": "242dfe7c",
   "metadata": {},
   "outputs": [
    {
     "name": "stdout",
     "output_type": "stream",
     "text": [
      "Pleaze, Enter the number of students : 2\n",
      "\n",
      "Enter the student 1 data :\n",
      "Name : Mennatullah\n",
      "Height : 160\n",
      "class : A\n",
      "\n",
      "Enter the student 2 data :\n",
      "Name : Tarek\n",
      "Height : 170\n",
      "class : B\n",
      "╒════════╤══════════╤═════════╕\n",
      "│ Name   │   Height │ Class   │\n",
      "╞════════╪══════════╪═════════╡\n",
      "│ Menna  │      160 │ A       │\n",
      "├────────┼──────────┼─────────┤\n",
      "│ Tarek  │      170 │ B       │\n",
      "╘════════╧══════════╧═════════╛\n"
     ]
    }
   ],
   "source": [
    "\n",
    "try:\n",
    "    student_number = int(input (\"Pleaze, Enter the number of students : \"))\n",
    "except:\n",
    "    print(\"Please, Enter valid number\")\n",
    "\n",
    "\n",
    "Students=StructuredArray ()\n",
    "\n",
    "#Draw the table \n",
    "Headers = (\"Name\",\"Height\",\"Class\")\n",
    "print(tabulate(Students, headers = Headers,tablefmt='fancy_grid'))\n"
   ]
  },
  {
   "cell_type": "code",
   "execution_count": 10,
   "id": "cfacb42b",
   "metadata": {},
   "outputs": [
    {
     "name": "stdout",
     "output_type": "stream",
     "text": [
      "╒════════╤══════════╤═════════╕\n",
      "│ Name   │   Height │ Class   │\n",
      "╞════════╪══════════╪═════════╡\n",
      "│ Menna  │      160 │ A       │\n",
      "├────────┼──────────┼─────────┤\n",
      "│ Tarek  │      170 │ B       │\n",
      "╘════════╧══════════╧═════════╛\n"
     ]
    }
   ],
   "source": [
    "#Sort Structured Array by height\n",
    "Students_sort = np.sort(Students,order = 'height')\n",
    "\n",
    "#Draw the table \n",
    "Headers = (\"Name\",\"Height\",\"Class\")\n",
    "print(tabulate(Students_sort, headers = Headers,tablefmt='fancy_grid'))\n",
    "\n"
   ]
  },
  {
   "cell_type": "markdown",
   "id": "63243b21",
   "metadata": {},
   "source": [
    "<p style=\"padding:10px; background:#7d053f; color:white; font-family:'Times New Roman', serif; font-size:1.5em; text-align:center; border-radius:50px 50px; font-weight:100;\"></p>\n"
   ]
  },
  {
   "cell_type": "markdown",
   "id": "2439554d",
   "metadata": {},
   "source": [
    "<div style = 'border : 3px solid #7d053f; background-color:#f5efef;padding:10px'>\n",
    "\n",
    "- ###  <span style=\"color:#7d053f\"> Using Both Numpy and Scipy ,Kindly `solve the following equations` using SciPy:</span>"
   ]
  },
  {
   "attachments": {
    "image.png": {
     "image/png": "[encoded data removed]"
    }
   },
   "cell_type": "markdown",
   "id": "a960b72d",
   "metadata": {},
   "source": [
    "![image.png](attachment:image.png)"
   ]
  },
  {
   "cell_type": "markdown",
   "id": "e20209d2",
   "metadata": {},
   "source": [
    "<p style=\"padding:10px;background-color:#f5efef;margin:0;color:#7d053f;font-family:newtimeroman;font-size:150%;text-align:center;border-radius: 50px 50px;overflow:hidden;font-weight:350\"> Solve Equations  :-</p> "
   ]
  },
  {
   "cell_type": "code",
   "execution_count": 11,
   "id": "c6df2550",
   "metadata": {},
   "outputs": [],
   "source": [
    "# Input Array  \n",
    "A = np.array([[1, 2,-3,2], [2, -5,4,9],[-5,40,-1,-20],[5,-4,-1,60]])\n",
    "# Solution Array \n",
    "b = np.array([30,4,-6,5])"
   ]
  },
  {
   "cell_type": "code",
   "execution_count": 12,
   "id": "dd1e84e1",
   "metadata": {},
   "outputs": [
    {
     "name": "stdout",
     "output_type": "stream",
     "text": [
      "╒════════╤═════════╤══════════╤══════════╕\n",
      "│      x │       y │        z │        w │\n",
      "╞════════╪═════════╪══════════╪══════════╡\n",
      "│ 19.467 │ 1.44372 │ -3.54974 │ -1.50183 │\n",
      "╘════════╧═════════╧══════════╧══════════╛\n"
     ]
    }
   ],
   "source": [
    "#Using Numpy\n",
    "npSolve = np.linalg.solve(A, b)\n",
    "Headers = (\"x\",\"y\",\"z\",\"w\")\n",
    "print(tabulate([npSolve],headers = Headers,tablefmt='fancy_grid'))"
   ]
  },
  {
   "cell_type": "code",
   "execution_count": 13,
   "id": "03d3ccbd",
   "metadata": {},
   "outputs": [
    {
     "name": "stdout",
     "output_type": "stream",
     "text": [
      "╒════════╤═════════╤══════════╤══════════╕\n",
      "│      x │       y │        z │        w │\n",
      "╞════════╪═════════╪══════════╪══════════╡\n",
      "│ 19.467 │ 1.44372 │ -3.54974 │ -1.50183 │\n",
      "╘════════╧═════════╧══════════╧══════════╛\n"
     ]
    }
   ],
   "source": [
    "#Using Scipy\n",
    "scipySolve = linalg.solve(A, b) \n",
    "Headers = (\"x\",\"y\",\"z\",\"w\")\n",
    "print(tabulate([scipySolve],headers = Headers,tablefmt='fancy_grid'))"
   ]
  },
  {
   "cell_type": "markdown",
   "id": "27fc626c",
   "metadata": {},
   "source": [
    "<p style=\"padding:10px; background:#7d053f; color:white; font-family:'Times New Roman', serif; font-size:1.5em; text-align:center; border-radius:50px 50px; font-weight:100;\"></p> "
   ]
  },
  {
   "cell_type": "markdown",
   "id": "ba3ab297",
   "metadata": {},
   "source": [
    "<div style = 'border : 3px solid #7d053f; background-color:#f5efef;padding:10px'>\n",
    "\n",
    "- ###  <span style=\"color:#7d053f\"> Implement the `L1` and `L2` loss functions\n",
    "</span>"
   ]
  },
  {
   "cell_type": "markdown",
   "id": "3855e325",
   "metadata": {},
   "source": [
    "<p style=\"padding:10px;background-color:#f5efef;margin:0;color:#7d053f;font-family:newtimeroman;font-size:150%;text-align:center;border-radius: 50px 50px;overflow:hidden;font-weight:350\"> Exercise: Implement the numpy vectorized version of the L1 loss.</p> "
   ]
  },
  {
   "attachments": {
    "image.png": {
     "image/png": "[encoded data removed]"
    }
   },
   "cell_type": "markdown",
   "id": "5db78c08",
   "metadata": {},
   "source": [
    "![image.png](attachment:image.png)"
   ]
  },
  {
   "cell_type": "code",
   "execution_count": 14,
   "id": "187dabc7",
   "metadata": {},
   "outputs": [],
   "source": [
    "def L1(yhat, y):\n",
    "    \"\"\"\n",
    "    Arguments:\n",
    "    yhat -- vector of size m (predicted labels)\n",
    "    y -- vector of size m (true labels)\n",
    "    \n",
    "    Returns:\n",
    "    loss -- the value of the L1 loss function defined above\n",
    "    \"\"\"\n",
    "    \n",
    "    ### START CODE HERE ### (â‰ˆ 1 line of code)\n",
    "    loss = np.sum(np.absolute(y - yhat))\n",
    "    ### END CODE HERE ###\n",
    "    \n",
    "    return loss"
   ]
  },
  {
   "cell_type": "code",
   "execution_count": 15,
   "id": "a7f9802a",
   "metadata": {},
   "outputs": [
    {
     "name": "stdout",
     "output_type": "stream",
     "text": [
      "L1 = 1.1\n"
     ]
    }
   ],
   "source": [
    "yhat = np.array([.9, 0.2, 0.1, .4, .9])\n",
    "y    = np.array([1 ,  0 ,  0 ,  1, 1])\n",
    "\n",
    "l1_loss = L1(yhat,y)\n",
    "print(\"L1 = \" + str(l1_loss))"
   ]
  },
  {
   "cell_type": "markdown",
   "id": "0aaf36c0",
   "metadata": {},
   "source": [
    "<p style=\"padding:10px;background-color:#f5efef;margin:0;color:#7d053f;font-family:newtimeroman;font-size:150%;text-align:center;border-radius: 50px 50px;overflow:hidden;font-weight:350\"> Exercise: Implement the numpy vectorized version of the L2 loss. </p> "
   ]
  },
  {
   "attachments": {
    "image.png": {
     "image/png": "[encoded data removed]"
    }
   },
   "cell_type": "markdown",
   "id": "0f46c847",
   "metadata": {},
   "source": [
    "![image.png](attachment:image.png)"
   ]
  },
  {
   "cell_type": "code",
   "execution_count": 16,
   "id": "22941f6b",
   "metadata": {},
   "outputs": [],
   "source": [
    "def L2(yhat, y):\n",
    "    \"\"\"\n",
    "    Arguments:\n",
    "    yhat -- vector of size m (predicted labels)\n",
    "    y -- vector of size m (true labels)\n",
    "    \n",
    "    Returns:\n",
    "    loss -- the value of the L2 loss function defined above\n",
    "    \"\"\"\n",
    "    \n",
    "    ### START CODE HERE ### (â‰ˆ 1 line of code)\n",
    "    loss = np.sum(np.power(np.absolute(y - yhat),2))\n",
    "    ### END CODE HERE ###\n",
    "    \n",
    "    return loss\n",
    "\n"
   ]
  },
  {
   "cell_type": "code",
   "execution_count": 17,
   "id": "3ee24c9e",
   "metadata": {},
   "outputs": [
    {
     "name": "stdout",
     "output_type": "stream",
     "text": [
      "L2 = 0.43\n"
     ]
    }
   ],
   "source": [
    "yhat = np.array([.9, 0.2, 0.1, .4, .9])\n",
    "y    = np.array([1 ,  0 ,  0 ,  1, 1])\n",
    "\n",
    "l2_loss = L2(yhat,y)\n",
    "\n",
    "print(\"L2 = \" + str(l2_loss))"
   ]
  },
  {
   "cell_type": "markdown",
   "id": "7a9f876b",
   "metadata": {},
   "source": [
    "<p style=\"padding:10px; background:#7d053f; color:white; font-family:'Times New Roman', serif; font-size:1.5em; text-align:center; border-radius:50px 50px; font-weight:100;\"></p> "
   ]
  },
  {
   "cell_type": "markdown",
   "id": "dc08b029",
   "metadata": {},
   "source": [
    "<div style = 'border : 3px solid #7d053f; background-color:#f5efef;padding:10px'>\n",
    "\n",
    "- ###  <span style=\"color:#7d053f\"> comparing the `dot product using parallelism` in python vs `numpy_dot_product` vs using the `for_loop` and compute the time needed for each.\n",
    "</span>"
   ]
  },
  {
   "cell_type": "markdown",
   "id": "0afbbfdb",
   "metadata": {},
   "source": [
    "<p style=\"padding:10px;background-color:#f5efef;margin:0;color:#7d053f;font-family:newtimeroman;font-size:150%;text-align:center;border-radius: 50px 50px;overflow:hidden;font-weight:350\">Matrix1, Matrix2:- </p> "
   ]
  },
  {
   "cell_type": "code",
   "execution_count": 18,
   "id": "79fb74db",
   "metadata": {},
   "outputs": [
    {
     "data": {
      "text/plain": [
       "array([ 0.27153125, -1.40084359,  0.49434445, ...,  0.42938987,\n",
       "       -1.03458133,  0.01163714])"
      ]
     },
     "execution_count": 18,
     "metadata": {},
     "output_type": "execute_result"
    }
   ],
   "source": [
    "mat_1 = np.random.randn(10000)\n",
    "mat_1"
   ]
  },
  {
   "cell_type": "code",
   "execution_count": 19,
   "id": "bfa53776",
   "metadata": {},
   "outputs": [
    {
     "data": {
      "text/plain": [
       "array([-1.13700163,  0.20942113,  0.17727287, ..., -1.85794242,\n",
       "       -1.12755291, -0.21565471])"
      ]
     },
     "execution_count": 19,
     "metadata": {},
     "output_type": "execute_result"
    }
   ],
   "source": [
    "mat_2 = np.random.randn(10000)\n",
    "mat_2 "
   ]
  },
  {
   "cell_type": "markdown",
   "id": "535e70aa",
   "metadata": {},
   "source": [
    "<p style=\"padding:10px;background-color:#f5efef;margin:0;color:#7d053f;font-family:newtimeroman;font-size:150%;text-align:center;border-radius: 50px 50px;overflow:hidden;font-weight:350\">Dot product using for_loop </p> "
   ]
  },
  {
   "cell_type": "code",
   "execution_count": 20,
   "id": "065e1268",
   "metadata": {},
   "outputs": [],
   "source": [
    "def dot_product(a, b):\n",
    "    result = 0\n",
    "    for i in range(len(a)):\n",
    "        result += a[i] * b[i]\n",
    "    return result"
   ]
  },
  {
   "cell_type": "code",
   "execution_count": 21,
   "id": "29991110",
   "metadata": {},
   "outputs": [
    {
     "name": "stdout",
     "output_type": "stream",
     "text": [
      "3.6 ms ± 207 µs per loop (mean ± std. dev. of 7 runs, 100 loops each)\n"
     ]
    }
   ],
   "source": [
    "%%timeit\n",
    "dot_product(mat_1, mat_2)"
   ]
  },
  {
   "cell_type": "markdown",
   "id": "efe9d9b1",
   "metadata": {},
   "source": [
    "<p style=\"padding:10px;background-color:#f5efef;margin:0;color:#7d053f;font-family:newtimeroman;font-size:150%;text-align:center;border-radius: 50px 50px;overflow:hidden;font-weight:350\"> Dot product using parallelism in python </p> "
   ]
  },
  {
   "cell_type": "code",
   "execution_count": null,
   "id": "02d441d3",
   "metadata": {},
   "outputs": [],
   "source": [
    "# %%timeit\n",
    "\n",
    "# Parallelizing with Pool.starmap()\n",
    "pool = mp.Pool(mp.cpu_count())\n",
    "\n",
    "\n",
    "results = pool.starmap(dot_product, [(mat_1, mat_2)])\n",
    "\n",
    "pool.close()\n",
    "pool.join()"
   ]
  },
  {
   "cell_type": "markdown",
   "id": "c2c216b3",
   "metadata": {},
   "source": [
    "<p style=\"padding:10px;background-color:#f5efef;margin:0;color:#7d053f;font-family:newtimeroman;font-size:150%;text-align:center;border-radius: 50px 50px;overflow:hidden;font-weight:350\"> Numpy_dot_product</p> "
   ]
  },
  {
   "cell_type": "code",
   "execution_count": null,
   "id": "8b01a049",
   "metadata": {},
   "outputs": [],
   "source": [
    "%%timeit\n",
    "mat_1 @ mat_2"
   ]
  },
  {
   "cell_type": "markdown",
   "id": "9e6ad308",
   "metadata": {},
   "source": [
    "<p style=\"padding:10px;background-color:#f5efef;margin:0;color:#7d053f;font-family:newtimeroman;font-size:150%;text-align:center;border-radius: 50px 50px;overflow:hidden;font-weight:350\">Element-wise operation</p> "
   ]
  },
  {
   "cell_type": "code",
   "execution_count": null,
   "id": "16499482",
   "metadata": {},
   "outputs": [],
   "source": [
    "%%timeit\n",
    "np.sum(mat_1 * mat_2)"
   ]
  },
  {
   "cell_type": "markdown",
   "id": "9dcc2aa3",
   "metadata": {},
   "source": [
    "<p style=\"padding:10px;background-color:#f5efef;margin:0;color:#7d053f;font-family:newtimeroman;font-size:150%;text-align:center;border-radius: 50px 50px;overflow:hidden;font-weight:350\"> Ratio </p> "
   ]
  },
  {
   "cell_type": "code",
   "execution_count": null,
   "id": "0f21892d",
   "metadata": {},
   "outputs": [],
   "source": [
    "usingFor = 38200\n",
    "usingParallelism = \n",
    "usingNumpy = 1.7\n",
    "elementWise = \n",
    "\n",
    "total = usingFor + usingParallelism + usingNumpy + elementWise\n",
    "\n",
    "usingFor /= total\n",
    "usingParallelism /= total\n",
    "usingNumpy /= total\n",
    "elementWise /= total\n",
    "\n",
    "print (f\"For : Parallelism : Numpy \\n{usingFor:.2f}:    {usingParallelism:.2f}     : {usingNumpy:.2f}: {elementWise:.2f}\")"
   ]
  }
 ],
 "metadata": {
  "kernelspec": {
   "display_name": "Python 3 (ipykernel)",
   "language": "python",
   "name": "python3"
  },
  "language_info": {
   "codemirror_mode": {
    "name": "ipython",
    "version": 3
   },
   "file_extension": ".py",
   "mimetype": "text/x-python",
   "name": "python",
   "nbconvert_exporter": "python",
   "pygments_lexer": "ipython3",
   "version": "3.9.13"
  }
 },
 "nbformat": 4,
 "nbformat_minor": 5
}
