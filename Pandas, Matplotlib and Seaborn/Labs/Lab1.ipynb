{
  "metadata": {
    "kernelspec": {
      "name": "python",
      "display_name": "Python (Pyodide)",
      "language": "python"
    },
    "language_info": {
      "codemirror_mode": {
        "name": "python",
        "version": 3
      },
      "file_extension": ".py",
      "mimetype": "text/x-python",
      "name": "python",
      "nbconvert_exporter": "python",
      "pygments_lexer": "ipython3",
      "version": "3.8"
    }
  },
  "nbformat_minor": 4,
  "nbformat": 4,
  "cells": [
    {
      "cell_type": "markdown",
      "source": "# <p style=\"padding:10px;background-color:#bf959f;margin:0;color:white;font-family:newtimeroman;font-size:150%;text-align:center;border-radius: 15px 50px;overflow:hidden;font-weight:500\">Pandas & seaborn</p> ",
      "metadata": {}
    },
    {
      "cell_type": "markdown",
      "source": "<p style=\"padding:10px;background-color:#f5eaec;margin:0;color:#bf959f;font-family:newtimeroman;font-size:150%;text-align:center;border-radius: 50px 50px;overflow:hidden;font-weight:350\"> Import Libraries  :-</p> ",
      "metadata": {}
    },
    {
      "cell_type": "code",
      "source": "import pandas as pd;\nimport matplotlib.pyplot as plt;",
      "metadata": {
        "trusted": true
      },
      "outputs": [],
      "execution_count": 58
    },
    {
      "cell_type": "markdown",
      "source": " ",
      "metadata": {}
    },
    {
      "cell_type": "markdown",
      "source": "<div style = 'border : 3px solid #bf959f; background-color:#f5eaec;padding:10px'>\n\n###  <span style=\"color:#bf959f\"> Q1) Handle the premier league top scorer's information.</span>",
      "metadata": {}
    },
    {
      "cell_type": "markdown",
      "source": " ",
      "metadata": {}
    },
    {
      "cell_type": "markdown",
      "source": "<p style=\"padding:10px;background-color:#f5efef;margin:0;color:#7d053f;font-family:newtimeroman;font-size:150%;text-align:center;border-radius: 50px 50px;overflow:hidden;font-weight:350\"> Read Data 🔍 :-</p> ",
      "metadata": {}
    },
    {
      "cell_type": "code",
      "source": "Top_scores = pd.read_csv('Top_Scorers_dataset.csv')",
      "metadata": {
        "trusted": true
      },
      "outputs": [],
      "execution_count": 26
    },
    {
      "cell_type": "code",
      "source": "Players = pd.read_json(\"players_stats.json\")",
      "metadata": {
        "trusted": true
      },
      "outputs": [],
      "execution_count": 27
    },
    {
      "cell_type": "code",
      "source": "Top_scores.head()",
      "metadata": {
        "trusted": true
      },
      "outputs": [
        {
          "execution_count": 28,
          "output_type": "execute_result",
          "data": {
            "text/plain": "   Rank           Name Nationality  Goals\n0     1   Alan Shearer     England    260\n1     2   Wayne Rooney     England    208\n2     3    Andrew Cole     England    187\n3     4  Sergio Agüero   Argentina    184\n4     5  Frank Lampard     England    177",
            "text/html": "<div>\n<style scoped>\n    .dataframe tbody tr th:only-of-type {\n        vertical-align: middle;\n    }\n\n    .dataframe tbody tr th {\n        vertical-align: top;\n    }\n\n    .dataframe thead th {\n        text-align: right;\n    }\n</style>\n<table border=\"1\" class=\"dataframe\">\n  <thead>\n    <tr style=\"text-align: right;\">\n      <th></th>\n      <th>Rank</th>\n      <th>Name</th>\n      <th>Nationality</th>\n      <th>Goals</th>\n    </tr>\n  </thead>\n  <tbody>\n    <tr>\n      <th>0</th>\n      <td>1</td>\n      <td>Alan Shearer</td>\n      <td>England</td>\n      <td>260</td>\n    </tr>\n    <tr>\n      <th>1</th>\n      <td>2</td>\n      <td>Wayne Rooney</td>\n      <td>England</td>\n      <td>208</td>\n    </tr>\n    <tr>\n      <th>2</th>\n      <td>3</td>\n      <td>Andrew Cole</td>\n      <td>England</td>\n      <td>187</td>\n    </tr>\n    <tr>\n      <th>3</th>\n      <td>4</td>\n      <td>Sergio Agüero</td>\n      <td>Argentina</td>\n      <td>184</td>\n    </tr>\n    <tr>\n      <th>4</th>\n      <td>5</td>\n      <td>Frank Lampard</td>\n      <td>England</td>\n      <td>177</td>\n    </tr>\n  </tbody>\n</table>\n</div>"
          },
          "metadata": {}
        }
      ],
      "execution_count": 28
    },
    {
      "cell_type": "code",
      "source": "Players .head()",
      "metadata": {
        "trusted": true
      },
      "outputs": [
        {
          "execution_count": 29,
          "output_type": "execute_result",
          "data": {
            "text/plain": "            Name  Height_cm  Appearances  Wins  Losses  Goals_per_match  \\\n0   Michael Owen        173          326   142      95             0.46   \n1  Jermain Defoe        171          496   185     188             0.33   \n2     Harry Kane        188          245   136      57             0.68   \n3  Mohamed Salah        175          158   107      21             0.61   \n4  Romelu Lukaku        190          252   112      80             0.45   \n\n   Assists  Yellow_cards  Red_cards  \n0       31            10          1  \n1       33            40          2  \n2       34            27          0  \n3       34             4          0  \n4       35            19          0  ",
            "text/html": "<div>\n<style scoped>\n    .dataframe tbody tr th:only-of-type {\n        vertical-align: middle;\n    }\n\n    .dataframe tbody tr th {\n        vertical-align: top;\n    }\n\n    .dataframe thead th {\n        text-align: right;\n    }\n</style>\n<table border=\"1\" class=\"dataframe\">\n  <thead>\n    <tr style=\"text-align: right;\">\n      <th></th>\n      <th>Name</th>\n      <th>Height_cm</th>\n      <th>Appearances</th>\n      <th>Wins</th>\n      <th>Losses</th>\n      <th>Goals_per_match</th>\n      <th>Assists</th>\n      <th>Yellow_cards</th>\n      <th>Red_cards</th>\n    </tr>\n  </thead>\n  <tbody>\n    <tr>\n      <th>0</th>\n      <td>Michael Owen</td>\n      <td>173</td>\n      <td>326</td>\n      <td>142</td>\n      <td>95</td>\n      <td>0.46</td>\n      <td>31</td>\n      <td>10</td>\n      <td>1</td>\n    </tr>\n    <tr>\n      <th>1</th>\n      <td>Jermain Defoe</td>\n      <td>171</td>\n      <td>496</td>\n      <td>185</td>\n      <td>188</td>\n      <td>0.33</td>\n      <td>33</td>\n      <td>40</td>\n      <td>2</td>\n    </tr>\n    <tr>\n      <th>2</th>\n      <td>Harry Kane</td>\n      <td>188</td>\n      <td>245</td>\n      <td>136</td>\n      <td>57</td>\n      <td>0.68</td>\n      <td>34</td>\n      <td>27</td>\n      <td>0</td>\n    </tr>\n    <tr>\n      <th>3</th>\n      <td>Mohamed Salah</td>\n      <td>175</td>\n      <td>158</td>\n      <td>107</td>\n      <td>21</td>\n      <td>0.61</td>\n      <td>34</td>\n      <td>4</td>\n      <td>0</td>\n    </tr>\n    <tr>\n      <th>4</th>\n      <td>Romelu Lukaku</td>\n      <td>190</td>\n      <td>252</td>\n      <td>112</td>\n      <td>80</td>\n      <td>0.45</td>\n      <td>35</td>\n      <td>19</td>\n      <td>0</td>\n    </tr>\n  </tbody>\n</table>\n</div>"
          },
          "metadata": {}
        }
      ],
      "execution_count": 29
    },
    {
      "cell_type": "markdown",
      "source": " ",
      "metadata": {}
    },
    {
      "cell_type": "markdown",
      "source": "<p style=\"padding:10px;background-color:#f5efef;margin:0;color:#7d053f;font-family:newtimeroman;font-size:150%;text-align:center;border-radius: 50px 50px;overflow:hidden;font-weight:350\"> Merge Data 🧩 :-</p>\n",
      "metadata": {}
    },
    {
      "cell_type": "code",
      "source": "df = pd.merge(Top_scores,Players , on='Name', how='outer')",
      "metadata": {
        "trusted": true
      },
      "outputs": [],
      "execution_count": 30
    },
    {
      "cell_type": "code",
      "source": "df.head()",
      "metadata": {
        "trusted": true
      },
      "outputs": [
        {
          "execution_count": 31,
          "output_type": "execute_result",
          "data": {
            "text/plain": "   Rank           Name        Nationality  Goals  Height_cm  Appearances  \\\n0   1.0   Alan Shearer            England  260.0        183          441   \n1   3.0    Andrew Cole            England  187.0        178          414   \n2  17.0   Dwight Yorke  Trinidad & Tobago  123.0        178          375   \n3   5.0  Frank Lampard            England  177.0        184          609   \n4   7.0     Harry Kane            England  166.0        188          245   \n\n   Wins  Losses  Goals_per_match  Assists  Yellow_cards  Red_cards  \n0   203     129             0.59       64            41          2  \n1   206     106             0.45       73            40          6  \n2   169     116             0.33       50            24          1  \n3   349     127             0.29      102            59          2  \n4   136      57             0.68       34            27          0  ",
            "text/html": "<div>\n<style scoped>\n    .dataframe tbody tr th:only-of-type {\n        vertical-align: middle;\n    }\n\n    .dataframe tbody tr th {\n        vertical-align: top;\n    }\n\n    .dataframe thead th {\n        text-align: right;\n    }\n</style>\n<table border=\"1\" class=\"dataframe\">\n  <thead>\n    <tr style=\"text-align: right;\">\n      <th></th>\n      <th>Rank</th>\n      <th>Name</th>\n      <th>Nationality</th>\n      <th>Goals</th>\n      <th>Height_cm</th>\n      <th>Appearances</th>\n      <th>Wins</th>\n      <th>Losses</th>\n      <th>Goals_per_match</th>\n      <th>Assists</th>\n      <th>Yellow_cards</th>\n      <th>Red_cards</th>\n    </tr>\n  </thead>\n  <tbody>\n    <tr>\n      <th>0</th>\n      <td>1.0</td>\n      <td>Alan Shearer</td>\n      <td>England</td>\n      <td>260.0</td>\n      <td>183</td>\n      <td>441</td>\n      <td>203</td>\n      <td>129</td>\n      <td>0.59</td>\n      <td>64</td>\n      <td>41</td>\n      <td>2</td>\n    </tr>\n    <tr>\n      <th>1</th>\n      <td>3.0</td>\n      <td>Andrew Cole</td>\n      <td>England</td>\n      <td>187.0</td>\n      <td>178</td>\n      <td>414</td>\n      <td>206</td>\n      <td>106</td>\n      <td>0.45</td>\n      <td>73</td>\n      <td>40</td>\n      <td>6</td>\n    </tr>\n    <tr>\n      <th>2</th>\n      <td>17.0</td>\n      <td>Dwight Yorke</td>\n      <td>Trinidad &amp; Tobago</td>\n      <td>123.0</td>\n      <td>178</td>\n      <td>375</td>\n      <td>169</td>\n      <td>116</td>\n      <td>0.33</td>\n      <td>50</td>\n      <td>24</td>\n      <td>1</td>\n    </tr>\n    <tr>\n      <th>3</th>\n      <td>5.0</td>\n      <td>Frank Lampard</td>\n      <td>England</td>\n      <td>177.0</td>\n      <td>184</td>\n      <td>609</td>\n      <td>349</td>\n      <td>127</td>\n      <td>0.29</td>\n      <td>102</td>\n      <td>59</td>\n      <td>2</td>\n    </tr>\n    <tr>\n      <th>4</th>\n      <td>7.0</td>\n      <td>Harry Kane</td>\n      <td>England</td>\n      <td>166.0</td>\n      <td>188</td>\n      <td>245</td>\n      <td>136</td>\n      <td>57</td>\n      <td>0.68</td>\n      <td>34</td>\n      <td>27</td>\n      <td>0</td>\n    </tr>\n  </tbody>\n</table>\n</div>"
          },
          "metadata": {}
        }
      ],
      "execution_count": 31
    },
    {
      "cell_type": "markdown",
      "source": " ",
      "metadata": {}
    },
    {
      "cell_type": "markdown",
      "source": "<p style=\"padding:10px;background-color:#f5efef;margin:0;color:#7d053f;font-family:newtimeroman;font-size:150%;text-align:center;border-radius: 50px 50px;overflow:hidden;font-weight:350\"> Sort by Rank 🧮:-</p> ",
      "metadata": {}
    },
    {
      "cell_type": "code",
      "source": "sorted_df = df.sort_values(by='Rank')\nsorted_df.reset_index(inplace=True,drop= True)",
      "metadata": {
        "trusted": true
      },
      "outputs": [],
      "execution_count": 32
    },
    {
      "cell_type": "code",
      "source": "sorted_df.head()",
      "metadata": {
        "trusted": true
      },
      "outputs": [
        {
          "execution_count": 33,
          "output_type": "execute_result",
          "data": {
            "text/plain": "   Rank           Name Nationality  Goals  Height_cm  Appearances  Wins  \\\n0   1.0   Alan Shearer     England  260.0        183          441   203   \n1   2.0   Wayne Rooney     England  208.0        176          491   284   \n2   3.0    Andrew Cole     England  187.0        178          414   206   \n3   4.0  Sergio Agüero   Argentina  184.0        173          275   186   \n4   5.0  Frank Lampard     England  177.0        184          609   349   \n\n   Losses  Goals_per_match  Assists  Yellow_cards  Red_cards  \n0     129             0.59       64            41          2  \n1     103             0.42      103           102          3  \n2     106             0.45       73            40          6  \n3      45             0.67       47            23          1  \n4     127             0.29      102            59          2  ",
            "text/html": "<div>\n<style scoped>\n    .dataframe tbody tr th:only-of-type {\n        vertical-align: middle;\n    }\n\n    .dataframe tbody tr th {\n        vertical-align: top;\n    }\n\n    .dataframe thead th {\n        text-align: right;\n    }\n</style>\n<table border=\"1\" class=\"dataframe\">\n  <thead>\n    <tr style=\"text-align: right;\">\n      <th></th>\n      <th>Rank</th>\n      <th>Name</th>\n      <th>Nationality</th>\n      <th>Goals</th>\n      <th>Height_cm</th>\n      <th>Appearances</th>\n      <th>Wins</th>\n      <th>Losses</th>\n      <th>Goals_per_match</th>\n      <th>Assists</th>\n      <th>Yellow_cards</th>\n      <th>Red_cards</th>\n    </tr>\n  </thead>\n  <tbody>\n    <tr>\n      <th>0</th>\n      <td>1.0</td>\n      <td>Alan Shearer</td>\n      <td>England</td>\n      <td>260.0</td>\n      <td>183</td>\n      <td>441</td>\n      <td>203</td>\n      <td>129</td>\n      <td>0.59</td>\n      <td>64</td>\n      <td>41</td>\n      <td>2</td>\n    </tr>\n    <tr>\n      <th>1</th>\n      <td>2.0</td>\n      <td>Wayne Rooney</td>\n      <td>England</td>\n      <td>208.0</td>\n      <td>176</td>\n      <td>491</td>\n      <td>284</td>\n      <td>103</td>\n      <td>0.42</td>\n      <td>103</td>\n      <td>102</td>\n      <td>3</td>\n    </tr>\n    <tr>\n      <th>2</th>\n      <td>3.0</td>\n      <td>Andrew Cole</td>\n      <td>England</td>\n      <td>187.0</td>\n      <td>178</td>\n      <td>414</td>\n      <td>206</td>\n      <td>106</td>\n      <td>0.45</td>\n      <td>73</td>\n      <td>40</td>\n      <td>6</td>\n    </tr>\n    <tr>\n      <th>3</th>\n      <td>4.0</td>\n      <td>Sergio Agüero</td>\n      <td>Argentina</td>\n      <td>184.0</td>\n      <td>173</td>\n      <td>275</td>\n      <td>186</td>\n      <td>45</td>\n      <td>0.67</td>\n      <td>47</td>\n      <td>23</td>\n      <td>1</td>\n    </tr>\n    <tr>\n      <th>4</th>\n      <td>5.0</td>\n      <td>Frank Lampard</td>\n      <td>England</td>\n      <td>177.0</td>\n      <td>184</td>\n      <td>609</td>\n      <td>349</td>\n      <td>127</td>\n      <td>0.29</td>\n      <td>102</td>\n      <td>59</td>\n      <td>2</td>\n    </tr>\n  </tbody>\n</table>\n</div>"
          },
          "metadata": {}
        }
      ],
      "execution_count": 33
    },
    {
      "cell_type": "code",
      "source": "sorted_df.info()",
      "metadata": {
        "trusted": true
      },
      "outputs": [
        {
          "name": "stdout",
          "text": "<class 'pandas.core.frame.DataFrame'>\nRangeIndex: 21 entries, 0 to 20\nData columns (total 12 columns):\n #   Column           Non-Null Count  Dtype  \n---  ------           --------------  -----  \n 0   Rank             20 non-null     float64\n 1   Name             21 non-null     object \n 2   Nationality      20 non-null     object \n 3   Goals            20 non-null     float64\n 4   Height_cm        21 non-null     int64  \n 5   Appearances      21 non-null     int64  \n 6   Wins             21 non-null     int64  \n 7   Losses           21 non-null     int64  \n 8   Goals_per_match  21 non-null     float64\n 9   Assists          21 non-null     int64  \n 10  Yellow_cards     21 non-null     int64  \n 11  Red_cards        21 non-null     int64  \ndtypes: float64(3), int64(7), object(2)\nmemory usage: 1.9+ KB\n",
          "output_type": "stream"
        }
      ],
      "execution_count": 35
    },
    {
      "cell_type": "markdown",
      "source": "<div style = 'border : 3px solid #bf959f; background-color:#f5eaec;padding:10px'>\nIf the null data is in 'Goals' and 'Rank' ,then we can not calculate the rank so we can drop it.",
      "metadata": {}
    },
    {
      "cell_type": "markdown",
      "source": " ",
      "metadata": {}
    },
    {
      "cell_type": "code",
      "source": "sorted_df.dropna(how='all',subset = ['Rank','Goals'],inplace = True)",
      "metadata": {
        "trusted": true
      },
      "outputs": [],
      "execution_count": 36
    },
    {
      "cell_type": "code",
      "source": "sorted_df.isnull().sum()",
      "metadata": {
        "trusted": true
      },
      "outputs": [
        {
          "execution_count": 37,
          "output_type": "execute_result",
          "data": {
            "text/plain": "Rank               0\nName               0\nNationality        0\nGoals              0\nHeight_cm          0\nAppearances        0\nWins               0\nLosses             0\nGoals_per_match    0\nAssists            0\nYellow_cards       0\nRed_cards          0\ndtype: int64"
          },
          "metadata": {}
        }
      ],
      "execution_count": 37
    },
    {
      "cell_type": "markdown",
      "source": "<div style = 'border : 3px solid #bf959f; background-color:#f5eaec;padding:10px'>\nHurray ☺️ our data is free of null values 🎉🎉",
      "metadata": {}
    },
    {
      "cell_type": "markdown",
      "source": " ",
      "metadata": {}
    },
    {
      "cell_type": "markdown",
      "source": "<p style=\"padding:10px;background-color:#f5efef;margin:0;color:#7d053f;font-family:newtimeroman;font-size:150%;text-align:center;border-radius: 50px 50px;overflow:hidden;font-weight:350\"> Visualization🪄 :-</p> ",
      "metadata": {}
    },
    {
      "cell_type": "code",
      "source": "sorted_df.plot(x=\"Appearances\", y=\"Goals\", kind=\"scatter\",color = \"#bf959f\");\nplt.title(\"Appearance vs Goals\");",
      "metadata": {
        "trusted": true
      },
      "outputs": [
        {
          "output_type": "display_data",
          "data": {
            "text/plain": "<Figure size 640x480 with 1 Axes>",
            "image/png": "[encoded data removed]"
          },
          "metadata": {}
        }
      ],
      "execution_count": 57
    },
    {
      "cell_type": "markdown",
      "source": "<p style=\"padding:10px; background:#7d053f; color:white; font-family:'Times New Roman', serif; font-size:1.5em; text-align:center; border-radius:50px 50px; font-weight:100;\"></p>",
      "metadata": {}
    }
  ]
}