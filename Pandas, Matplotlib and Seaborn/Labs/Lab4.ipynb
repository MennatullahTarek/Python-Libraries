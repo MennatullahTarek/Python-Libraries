{
  "metadata": {
    "kernelspec": {
      "name": "python",
      "display_name": "Python (Pyodide)",
      "language": "python"
    },
    "language_info": {
      "codemirror_mode": {
        "name": "python",
        "version": 3
      },
      "file_extension": ".py",
      "mimetype": "text/x-python",
      "name": "python",
      "nbconvert_exporter": "python",
      "pygments_lexer": "ipython3",
      "version": "3.8"
    },
    "colab": {
      "provenance": []
    }
  },
  "nbformat_minor": 0,
  "nbformat": 4,
  "cells": [
    {
      "cell_type": "markdown",
      "source": [
        "# <p style=\"padding:10px;background-color:#bf959f;margin:0;color:white;font-family:newtimeroman;font-size:150%;text-align:center;border-radius: 15px 50px;overflow:hidden;font-weight:500\">Pandas & seaborn</p>"
      ],
      "metadata": {
        "id": "FUNszuLL1l7O"
      }
    },
    {
      "cell_type": "markdown",
      "source": [
        "<p style=\"padding:10px;background-color:#f5eaec;margin:0;color:#bf959f;font-family:newtimeroman;font-size:150%;text-align:center;border-radius: 50px 50px;overflow:hidden;font-weight:350\"> Import Libraries  :-</p>"
      ],
      "metadata": {
        "id": "gYNcFBlx1l7T"
      }
    },
    {
      "cell_type": "code",
      "source": [
        "import pandas as pd;\n",
        "import matplotlib.pyplot as plt;\n",
        "import seaborn as sns;"
      ],
      "metadata": {
        "trusted": true,
        "id": "whldaKHR1l7U"
      },
      "outputs": [],
      "execution_count": 2
    },
    {
      "cell_type": "markdown",
      "source": [],
      "metadata": {
        "id": "AgKPNW9M1l7V"
      }
    },
    {
      "cell_type": "markdown",
      "source": [
        "<div style = 'border : 3px solid #bf959f; background-color:#f5eaec;padding:10px'>\n",
        "\n",
        "###  <span style=\"color:#bf959f\"> Q4) Kindly use the following values saved to plot the losses and show them to your manager</span>"
      ],
      "metadata": {
        "id": "2xcYJMyA1l7W"
      }
    },
    {
      "cell_type": "code",
      "source": [
        "training_losses = [31.935606,\n",
        "31.679361,\n",
        "30.987786,\n",
        "30.263454,\n",
        "29.400899,\n",
        "28.349332,\n",
        "28.051839,\n",
        "27.776177,\n",
        "27.375563,\n",
        "27.142823,\n",
        "26.770814,\n",
        "26.581287,\n",
        "26.074585,\n",
        "25.877744,\n",
        "25.558349,\n",
        "25.111712,\n",
        "24.865791,\n",
        "24.501421,\n",
        "24.148419,\n",
        "23.669787,\n",
        "23.310746,\n",
        "22.987978,\n",
        "22.544164,\n",
        "22.02776,\n",
        "21.612261,\n",
        "21.15004,\n",
        "20.595727,\n",
        "20.069397,\n",
        "19.664952,\n",
        "18.940667,\n",
        "18.530784,\n",
        "17.736587,\n",
        "17.254536,\n",
        "16.749037,\n",
        "15.889799,\n",
        "15.21916,\n",
        "14.654819,\n",
        "13.837178,\n",
        "13.311737,\n",
        "12.447598,\n",
        "11.733485,\n",
        "11.309702,\n",
        "10.736487,\n",
        "10.230713,\n",
        "9.503306,\n",
        "8.699232,\n",
        "8.431897,\n",
        "7.600132]"
      ],
      "metadata": {
        "trusted": true,
        "id": "uPjUmcgN1l7W"
      },
      "outputs": [],
      "execution_count": 3
    },
    {
      "cell_type": "code",
      "source": [
        "validation_losses = [5.579518,\n",
        "5.566535,\n",
        "5.439262,\n",
        "5.363996,\n",
        "5.368029,\n",
        "5.307929,\n",
        "5.203864,\n",
        "5.157347,\n",
        "5.17553,\n",
        "5.277766,\n",
        "5.15471,\n",
        "5.132692,\n",
        "5.115165,\n",
        "5.017723,\n",
        "5.106299,\n",
        "4.975789,\n",
        "4.900855,\n",
        "5.081902,\n",
        "4.894233,\n",
        "4.797931,\n",
        "4.728219,\n",
        "4.817321,\n",
        "4.93361,\n",
        "4.649485,\n",
        "4.843625,\n",
        "4.767582,\n",
        "4.786331,\n",
        "4.604632,\n",
        "4.587459,\n",
        "4.61164,\n",
        "4.669691,\n",
        "4.561758,\n",
        "4.714008,\n",
        "4.618539,\n",
        "4.602214,\n",
        "4.544652,\n",
        "5.097597,\n",
        "4.194339,\n",
        "4.237294,\n",
        "4.611084,\n",
        "4.200398,\n",
        "4.343265,\n",
        "4.523245,\n",
        "4.479331,\n",
        "4.606778,\n",
        "4.429471,\n",
        "4.480304,\n",
        "4.211359]"
      ],
      "metadata": {
        "trusted": true,
        "id": "lTpoMXz31l7X"
      },
      "outputs": [],
      "execution_count": 4
    },
    {
      "cell_type": "code",
      "source": [
        "Neural_df = pd.DataFrame({\n",
        "                    'training_losses' : training_losses ,\n",
        "                    'validation_losses' : validation_losses\n",
        "                          })"
      ],
      "metadata": {
        "trusted": true,
        "id": "l9kVG7p-1l7Y"
      },
      "outputs": [],
      "execution_count": 5
    },
    {
      "cell_type": "code",
      "source": [
        "Neural_df.head()"
      ],
      "metadata": {
        "trusted": true,
        "colab": {
          "base_uri": "https://localhost:8080/",
          "height": 206
        },
        "id": "Xvtk5LAG1l7a",
        "outputId": "a7d203c6-02f2-4464-9627-7a70d71110e5"
      },
      "outputs": [
        {
          "output_type": "execute_result",
          "data": {
            "text/plain": [
              "   training_losses  validation_losses\n",
              "0        31.935606           5.579518\n",
              "1        31.679361           5.566535\n",
              "2        30.987786           5.439262\n",
              "3        30.263454           5.363996\n",
              "4        29.400899           5.368029"
            ],
            "text/html": [
              "\n",
              "  <div id=\"df-bad7c62b-d9c3-4fc7-8cbc-5eaf3e2b37f4\" class=\"colab-df-container\">\n",
              "    <div>\n",
              "<style scoped>\n",
              "    .dataframe tbody tr th:only-of-type {\n",
              "        vertical-align: middle;\n",
              "    }\n",
              "\n",
              "    .dataframe tbody tr th {\n",
              "        vertical-align: top;\n",
              "    }\n",
              "\n",
              "    .dataframe thead th {\n",
              "        text-align: right;\n",
              "    }\n",
              "</style>\n",
              "<table border=\"1\" class=\"dataframe\">\n",
              "  <thead>\n",
              "    <tr style=\"text-align: right;\">\n",
              "      <th></th>\n",
              "      <th>training_losses</th>\n",
              "      <th>validation_losses</th>\n",
              "    </tr>\n",
              "  </thead>\n",
              "  <tbody>\n",
              "    <tr>\n",
              "      <th>0</th>\n",
              "      <td>31.935606</td>\n",
              "      <td>5.579518</td>\n",
              "    </tr>\n",
              "    <tr>\n",
              "      <th>1</th>\n",
              "      <td>31.679361</td>\n",
              "      <td>5.566535</td>\n",
              "    </tr>\n",
              "    <tr>\n",
              "      <th>2</th>\n",
              "      <td>30.987786</td>\n",
              "      <td>5.439262</td>\n",
              "    </tr>\n",
              "    <tr>\n",
              "      <th>3</th>\n",
              "      <td>30.263454</td>\n",
              "      <td>5.363996</td>\n",
              "    </tr>\n",
              "    <tr>\n",
              "      <th>4</th>\n",
              "      <td>29.400899</td>\n",
              "      <td>5.368029</td>\n",
              "    </tr>\n",
              "  </tbody>\n",
              "</table>\n",
              "</div>\n",
              "    <div class=\"colab-df-buttons\">\n",
              "\n",
              "  <div class=\"colab-df-container\">\n",
              "    <button class=\"colab-df-convert\" onclick=\"convertToInteractive('df-bad7c62b-d9c3-4fc7-8cbc-5eaf3e2b37f4')\"\n",
              "            title=\"Convert this dataframe to an interactive table.\"\n",
              "            style=\"display:none;\">\n",
              "\n",
              "  <svg xmlns=\"http://www.w3.org/2000/svg\" height=\"24px\" viewBox=\"0 -960 960 960\">\n",
              "    <path d=\"M120-120v-720h720v720H120Zm60-500h600v-160H180v160Zm220 220h160v-160H400v160Zm0 220h160v-160H400v160ZM180-400h160v-160H180v160Zm440 0h160v-160H620v160ZM180-180h160v-160H180v160Zm440 0h160v-160H620v160Z\"/>\n",
              "  </svg>\n",
              "    </button>\n",
              "\n",
              "  <style>\n",
              "    .colab-df-container {\n",
              "      display:flex;\n",
              "      gap: 12px;\n",
              "    }\n",
              "\n",
              "    .colab-df-convert {\n",
              "      background-color: #E8F0FE;\n",
              "      border: none;\n",
              "      border-radius: 50%;\n",
              "      cursor: pointer;\n",
              "      display: none;\n",
              "      fill: #1967D2;\n",
              "      height: 32px;\n",
              "      padding: 0 0 0 0;\n",
              "      width: 32px;\n",
              "    }\n",
              "\n",
              "    .colab-df-convert:hover {\n",
              "      background-color: #E2EBFA;\n",
              "      box-shadow: 0px 1px 2px rgba(60, 64, 67, 0.3), 0px 1px 3px 1px rgba(60, 64, 67, 0.15);\n",
              "      fill: #174EA6;\n",
              "    }\n",
              "\n",
              "    .colab-df-buttons div {\n",
              "      margin-bottom: 4px;\n",
              "    }\n",
              "\n",
              "    [theme=dark] .colab-df-convert {\n",
              "      background-color: #3B4455;\n",
              "      fill: #D2E3FC;\n",
              "    }\n",
              "\n",
              "    [theme=dark] .colab-df-convert:hover {\n",
              "      background-color: #434B5C;\n",
              "      box-shadow: 0px 1px 3px 1px rgba(0, 0, 0, 0.15);\n",
              "      filter: drop-shadow(0px 1px 2px rgba(0, 0, 0, 0.3));\n",
              "      fill: #FFFFFF;\n",
              "    }\n",
              "  </style>\n",
              "\n",
              "    <script>\n",
              "      const buttonEl =\n",
              "        document.querySelector('#df-bad7c62b-d9c3-4fc7-8cbc-5eaf3e2b37f4 button.colab-df-convert');\n",
              "      buttonEl.style.display =\n",
              "        google.colab.kernel.accessAllowed ? 'block' : 'none';\n",
              "\n",
              "      async function convertToInteractive(key) {\n",
              "        const element = document.querySelector('#df-bad7c62b-d9c3-4fc7-8cbc-5eaf3e2b37f4');\n",
              "        const dataTable =\n",
              "          await google.colab.kernel.invokeFunction('convertToInteractive',\n",
              "                                                    [key], {});\n",
              "        if (!dataTable) return;\n",
              "\n",
              "        const docLinkHtml = 'Like what you see? Visit the ' +\n",
              "          '<a target=\"_blank\" href=https://colab.research.google.com/notebooks/data_table.ipynb>data table notebook</a>'\n",
              "          + ' to learn more about interactive tables.';\n",
              "        element.innerHTML = '';\n",
              "        dataTable['output_type'] = 'display_data';\n",
              "        await google.colab.output.renderOutput(dataTable, element);\n",
              "        const docLink = document.createElement('div');\n",
              "        docLink.innerHTML = docLinkHtml;\n",
              "        element.appendChild(docLink);\n",
              "      }\n",
              "    </script>\n",
              "  </div>\n",
              "\n",
              "\n",
              "<div id=\"df-fa979758-23c6-45f6-8803-8351973fe7ba\">\n",
              "  <button class=\"colab-df-quickchart\" onclick=\"quickchart('df-fa979758-23c6-45f6-8803-8351973fe7ba')\"\n",
              "            title=\"Suggest charts\"\n",
              "            style=\"display:none;\">\n",
              "\n",
              "<svg xmlns=\"http://www.w3.org/2000/svg\" height=\"24px\"viewBox=\"0 0 24 24\"\n",
              "     width=\"24px\">\n",
              "    <g>\n",
              "        <path d=\"M19 3H5c-1.1 0-2 .9-2 2v14c0 1.1.9 2 2 2h14c1.1 0 2-.9 2-2V5c0-1.1-.9-2-2-2zM9 17H7v-7h2v7zm4 0h-2V7h2v10zm4 0h-2v-4h2v4z\"/>\n",
              "    </g>\n",
              "</svg>\n",
              "  </button>\n",
              "\n",
              "<style>\n",
              "  .colab-df-quickchart {\n",
              "      --bg-color: #E8F0FE;\n",
              "      --fill-color: #1967D2;\n",
              "      --hover-bg-color: #E2EBFA;\n",
              "      --hover-fill-color: #174EA6;\n",
              "      --disabled-fill-color: #AAA;\n",
              "      --disabled-bg-color: #DDD;\n",
              "  }\n",
              "\n",
              "  [theme=dark] .colab-df-quickchart {\n",
              "      --bg-color: #3B4455;\n",
              "      --fill-color: #D2E3FC;\n",
              "      --hover-bg-color: #434B5C;\n",
              "      --hover-fill-color: #FFFFFF;\n",
              "      --disabled-bg-color: #3B4455;\n",
              "      --disabled-fill-color: #666;\n",
              "  }\n",
              "\n",
              "  .colab-df-quickchart {\n",
              "    background-color: var(--bg-color);\n",
              "    border: none;\n",
              "    border-radius: 50%;\n",
              "    cursor: pointer;\n",
              "    display: none;\n",
              "    fill: var(--fill-color);\n",
              "    height: 32px;\n",
              "    padding: 0;\n",
              "    width: 32px;\n",
              "  }\n",
              "\n",
              "  .colab-df-quickchart:hover {\n",
              "    background-color: var(--hover-bg-color);\n",
              "    box-shadow: 0 1px 2px rgba(60, 64, 67, 0.3), 0 1px 3px 1px rgba(60, 64, 67, 0.15);\n",
              "    fill: var(--button-hover-fill-color);\n",
              "  }\n",
              "\n",
              "  .colab-df-quickchart-complete:disabled,\n",
              "  .colab-df-quickchart-complete:disabled:hover {\n",
              "    background-color: var(--disabled-bg-color);\n",
              "    fill: var(--disabled-fill-color);\n",
              "    box-shadow: none;\n",
              "  }\n",
              "\n",
              "  .colab-df-spinner {\n",
              "    border: 2px solid var(--fill-color);\n",
              "    border-color: transparent;\n",
              "    border-bottom-color: var(--fill-color);\n",
              "    animation:\n",
              "      spin 1s steps(1) infinite;\n",
              "  }\n",
              "\n",
              "  @keyframes spin {\n",
              "    0% {\n",
              "      border-color: transparent;\n",
              "      border-bottom-color: var(--fill-color);\n",
              "      border-left-color: var(--fill-color);\n",
              "    }\n",
              "    20% {\n",
              "      border-color: transparent;\n",
              "      border-left-color: var(--fill-color);\n",
              "      border-top-color: var(--fill-color);\n",
              "    }\n",
              "    30% {\n",
              "      border-color: transparent;\n",
              "      border-left-color: var(--fill-color);\n",
              "      border-top-color: var(--fill-color);\n",
              "      border-right-color: var(--fill-color);\n",
              "    }\n",
              "    40% {\n",
              "      border-color: transparent;\n",
              "      border-right-color: var(--fill-color);\n",
              "      border-top-color: var(--fill-color);\n",
              "    }\n",
              "    60% {\n",
              "      border-color: transparent;\n",
              "      border-right-color: var(--fill-color);\n",
              "    }\n",
              "    80% {\n",
              "      border-color: transparent;\n",
              "      border-right-color: var(--fill-color);\n",
              "      border-bottom-color: var(--fill-color);\n",
              "    }\n",
              "    90% {\n",
              "      border-color: transparent;\n",
              "      border-bottom-color: var(--fill-color);\n",
              "    }\n",
              "  }\n",
              "</style>\n",
              "\n",
              "  <script>\n",
              "    async function quickchart(key) {\n",
              "      const quickchartButtonEl =\n",
              "        document.querySelector('#' + key + ' button');\n",
              "      quickchartButtonEl.disabled = true;  // To prevent multiple clicks.\n",
              "      quickchartButtonEl.classList.add('colab-df-spinner');\n",
              "      try {\n",
              "        const charts = await google.colab.kernel.invokeFunction(\n",
              "            'suggestCharts', [key], {});\n",
              "      } catch (error) {\n",
              "        console.error('Error during call to suggestCharts:', error);\n",
              "      }\n",
              "      quickchartButtonEl.classList.remove('colab-df-spinner');\n",
              "      quickchartButtonEl.classList.add('colab-df-quickchart-complete');\n",
              "    }\n",
              "    (() => {\n",
              "      let quickchartButtonEl =\n",
              "        document.querySelector('#df-fa979758-23c6-45f6-8803-8351973fe7ba button');\n",
              "      quickchartButtonEl.style.display =\n",
              "        google.colab.kernel.accessAllowed ? 'block' : 'none';\n",
              "    })();\n",
              "  </script>\n",
              "</div>\n",
              "\n",
              "    </div>\n",
              "  </div>\n"
            ],
            "application/vnd.google.colaboratory.intrinsic+json": {
              "type": "dataframe",
              "variable_name": "Neural_df",
              "summary": "{\n  \"name\": \"Neural_df\",\n  \"rows\": 48,\n  \"fields\": [\n    {\n      \"column\": \"training_losses\",\n      \"properties\": {\n        \"dtype\": \"number\",\n        \"std\": 6.970242460666355,\n        \"min\": 7.600132,\n        \"max\": 31.935606,\n        \"num_unique_values\": 48,\n        \"samples\": [\n          20.069397,\n          11.733485,\n          20.595727\n        ],\n        \"semantic_type\": \"\",\n        \"description\": \"\"\n      }\n    },\n    {\n      \"column\": \"validation_losses\",\n      \"properties\": {\n        \"dtype\": \"number\",\n        \"std\": 0.36541520781504,\n        \"min\": 4.194339,\n        \"max\": 5.579518,\n        \"num_unique_values\": 48,\n        \"samples\": [\n          4.604632,\n          4.200398,\n          4.786331\n        ],\n        \"semantic_type\": \"\",\n        \"description\": \"\"\n      }\n    }\n  ]\n}"
            }
          },
          "metadata": {},
          "execution_count": 6
        }
      ],
      "execution_count": 6
    },
    {
      "cell_type": "markdown",
      "source": [
        "  "
      ],
      "metadata": {
        "id": "GWTYaX0i1l7b"
      }
    },
    {
      "cell_type": "markdown",
      "source": [
        "<p style=\"padding:10px;background-color:#f5eaec;margin:0;color:#bf959f;font-family:newtimeroman;font-size:150%;text-align:center;border-radius: 50px 50px;overflow:hidden;font-weight:350\"> Plot losses  :-</p>"
      ],
      "metadata": {
        "id": "SWacR9DX7diN"
      }
    },
    {
      "cell_type": "code",
      "source": [
        "Neural_df['training_losses'].plot(kind='line', figsize=(8, 4), title='training_losses', color = \"#bf959f\");\n",
        "plt.legend()"
      ],
      "metadata": {
        "colab": {
          "base_uri": "https://localhost:8080/",
          "height": 408
        },
        "id": "8OBlWwYD53T0",
        "outputId": "3df02e01-f69e-47cf-dd05-0d0225cd4afb"
      },
      "execution_count": 7,
      "outputs": [
        {
          "output_type": "execute_result",
          "data": {
            "text/plain": [
              "<matplotlib.legend.Legend at 0x7ade904dc8b0>"
            ]
          },
          "metadata": {},
          "execution_count": 7
        },
        {
          "output_type": "display_data",
          "data": {
            "text/plain": [
              "<Figure size 800x400 with 1 Axes>"
            ],
            "image/png": "[encoded data removed]"
          },
          "metadata": {}
        }
      ]
    },
    {
      "cell_type": "code",
      "source": [
        "Neural_df['training_losses'].plot(kind='line', figsize=(8, 4), title='validation _losses', color = \"#bf959f\");\n",
        "plt.legend();"
      ],
      "metadata": {
        "colab": {
          "base_uri": "https://localhost:8080/",
          "height": 391
        },
        "id": "8Wy8a7Gl56b6",
        "outputId": "ca843c63-ef09-4634-e533-000a4e61c660"
      },
      "execution_count": 8,
      "outputs": [
        {
          "output_type": "display_data",
          "data": {
            "text/plain": [
              "<Figure size 800x400 with 1 Axes>"
            ],
            "image/png": "[encoded data removed]"
          },
          "metadata": {}
        }
      ]
    },
    {
      "cell_type": "code",
      "source": [
        "Neural_df.plot(kind='scatter', x='training_losses', y='validation_losses', alpha=1, color = \"#bf959f\", label = \"losses\", title = \"Training vs Validation Losses\");\n",
        "\n",
        "plt.legend();"
      ],
      "metadata": {
        "trusted": true,
        "colab": {
          "base_uri": "https://localhost:8080/",
          "height": 472
        },
        "id": "x7wL8F-b1l7c",
        "outputId": "cf542f43-a039-4965-db7b-2add63eee4c5"
      },
      "outputs": [
        {
          "output_type": "display_data",
          "data": {
            "text/plain": [
              "<Figure size 640x480 with 1 Axes>"
            ],
            "image/png": "[encoded data removed]"
          },
          "metadata": {}
        }
      ],
      "execution_count": 9
    }
  ]
}